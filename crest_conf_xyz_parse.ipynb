{
 "cells": [
  {
   "cell_type": "markdown",
   "id": "24667ad4",
   "metadata": {},
   "source": [
    "# CREST conformer xyz file parse"
   ]
  },
  {
   "cell_type": "markdown",
   "id": "888b5a65",
   "metadata": {},
   "source": [
    "A tool for automating the parsing of CREST conformer xyz files (.xyz). For information on CREST see: https://xtb-docs.readthedocs.io/en/latest/crestxmpl.html. \n",
    "\n",
    "Required inputs: an XYZ file (e.g., crest_conformers.xyz)\n",
    "\n",
    "Expected outputs: individual XYZ-formatted files (named molecule1.xyz, molecule2.xyz, and so on). These XYZ files can be used for subsequent analysis/calculations (e.g,. single-point energy corrections, etc.)"
   ]
  },
  {
   "cell_type": "code",
   "execution_count": null,
   "id": "628c8f3d",
   "metadata": {},
   "outputs": [],
   "source": [
    "# import modules\n",
    "import os\n",
    "import re"
   ]
  },
  {
   "cell_type": "code",
   "execution_count": null,
   "id": "239fdd2c",
   "metadata": {},
   "outputs": [],
   "source": [
    "def is_number(s):\n",
    "    try:\n",
    "        float(s)\n",
    "        return True\n",
    "    except ValueError:\n",
    "        return False"
   ]
  },
  {
   "cell_type": "code",
   "execution_count": null,
   "id": "681df254",
   "metadata": {},
   "outputs": [],
   "source": [
    "def parse_xyz_file(input_file, output_dir):\n",
    "    with open(input_file, 'r') as f:\n",
    "        lines = f.readlines()\n",
    "\n",
    "    molecules = []\n",
    "    current_molecule = []\n",
    "    \n",
    "    for i in range(len(lines)):\n",
    "        current_line = lines[i].strip()\n",
    "        next_line = lines[i+1].strip() if i+1 < len(lines) else \"\"\n",
    "\n",
    "        if current_molecule and is_number(current_line) and is_number(next_line):\n",
    "            molecules.append(current_molecule)\n",
    "            current_molecule = []\n",
    "\n",
    "        current_molecule.append(current_line)\n",
    "\n",
    "    if current_molecule:\n",
    "        molecules.append(current_molecule)\n",
    "\n",
    "    for i, molecule in enumerate(molecules, 1):\n",
    "        num_atoms = int(molecule[0])\n",
    "        energy = float(molecule[1])\n",
    "\n",
    "        # Create a new XYZ file for each molecule\n",
    "        output_file = os.path.join(output_dir, f'molecule_{i}.xyz')\n",
    "        with open(output_file, 'w') as f:\n",
    "            f.write(f\"{num_atoms}\\n\")\n",
    "            f.write(f\"{energy}\\n\")\n",
    "            for line in molecule[2:]:\n",
    "                f.write(f\"{line}\\n\")\n",
    "\n",
    "    print(f\"Generated {len(molecules)} XYZ files in {output_dir}\")"
   ]
  },
  {
   "cell_type": "code",
   "execution_count": null,
   "id": "e84b3785",
   "metadata": {},
   "outputs": [],
   "source": [
    "\"\"\"\n",
    "Prompt user to specify the Gaussian IRC file to parse.\n",
    "Open the file.\n",
    "\"\"\"\n",
    "\n",
    "# Prompt the user to input the name of their file\n",
    "input_file = input(\"Enter the name of your .out file: \")\n",
    "\n",
    "# Open the file\n",
    "with open(input_file, 'r') as f:\n",
    "    lines = f.readlines()"
   ]
  },
  {
   "cell_type": "code",
   "execution_count": null,
   "id": "a479f32c",
   "metadata": {},
   "outputs": [],
   "source": [
    "output_dir = 'output_molecules'"
   ]
  },
  {
   "cell_type": "code",
   "execution_count": null,
   "id": "c883f43c",
   "metadata": {},
   "outputs": [],
   "source": [
    "# Create output directory if it doesn't exist\n",
    "os.makedirs(output_dir, exist_ok=True)\n",
    "\n",
    "parse_xyz_file(input_file, output_dir)"
   ]
  }
 ],
 "metadata": {
  "kernelspec": {
   "display_name": "Python 3 (ipykernel)",
   "language": "python",
   "name": "python3"
  },
  "language_info": {
   "codemirror_mode": {
    "name": "ipython",
    "version": 3
   },
   "file_extension": ".py",
   "mimetype": "text/x-python",
   "name": "python",
   "nbconvert_exporter": "python",
   "pygments_lexer": "ipython3",
   "version": "3.9.13"
  }
 },
 "nbformat": 4,
 "nbformat_minor": 5
}
